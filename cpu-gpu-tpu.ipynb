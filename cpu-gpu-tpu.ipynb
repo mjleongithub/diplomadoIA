{
 "cells": [
  {
   "cell_type": "markdown",
   "metadata": {},
   "source": [
    "# Diferencias entre CPU, GPU y TPU"
   ]
  },
  {
   "cell_type": "markdown",
   "metadata": {},
   "source": [
    "La diferencia entre CPU, GPU y TPU radica en que la CPU maneja toda la lógica, cálculos y entradas/salidas del computador; es decir, es un procesador de propósito general.  Mientras que la GPU es un procesador adicional para mejorar la interfaz gráfica y ejecutar tareas de alto nivel. Por su parte, las TPU son potentes procesadores personalizados para ejecutar proyectos realizados en un framework específico como por ejemplo TensorFlow."
   ]
  },
  {
   "cell_type": "markdown",
   "metadata": {},
   "source": [
    "* __CPU:__ Unidad central de procesamiento. Gestiona todas las funciones de un computador\n",
    "* __GPU:__ Unidad de procesamiento gráfico. Mejora el desempeño gráfico de un computador\n",
    "* __TPU:__ Unidad de procesamiento tensorial. Circuito integrado de aplicación específica y acelerador de IA (ASIC) desarrollado por Google para optimizar proyectos TensorFlow (biblioteca de código abierto para aprendizaje automático)."
   ]
  },
  {
   "cell_type": "markdown",
   "metadata": {},
   "source": [
    "## Qué es la CPU?"
   ]
  },
  {
   "cell_type": "markdown",
   "metadata": {},
   "source": [
    "La unidad central de procesamiento (CPU) es el hardware dentro de un ordenador u otros dispositivos programables, su trabajo es interpretar las instrucciones de un programa informático mediante la realización de las operaciones básicas aritméticas, lógicas y externas (provenientes de la unidad de entrada/salida). \n",
    "\n",
    "Un ordenador puede contener más de una CPU (multiprocesamiento). En la actualidad, los microprocesadores están constituidos por un único circuito integrado (chip) aunque existen los procesadores multinúcleo (varias CPU en un solo circuito integrado). \n",
    "\n",
    "Los componentes de la CPU son:"
   ]
  },
  {
   "cell_type": "markdown",
   "metadata": {},
   "source": [
    "* __Unidad aritmético lógica (ALU):__ realiza operaciones aritméticas y lógicas.\n",
    "* __Unidad de control (CU):__ dirige el tráfico de información entre los registros de la CPU y conecta con la ALU las instrucciones extraídas de la memoria.\n",
    "* __Registros internos:__ no accesibles (de instrucción, de bus de datos y bus de dirección) y accesibles de uso específico (contador programa, puntero pila, acumulador, flags, etc.) o de uso general."
   ]
  },
  {
   "cell_type": "markdown",
   "metadata": {},
   "source": [
    "![Imagen CPU](https://serverguy.com/wp-content/uploads/2020/10/cpu-768x512.jpeg)"
   ]
  },
  {
   "cell_type": "markdown",
   "metadata": {},
   "source": [
    "## Qué es la GPU?"
   ]
  },
  {
   "cell_type": "markdown",
   "metadata": {},
   "source": [
    "Una unidad de procesamiento gráfico o GPU es un coprocesador dedicado al procesamiento de gráficos u operaciones de coma flotante, para aligerar la carga de trabajo del procesador central en aplicaciones como los videojuegos o aplicaciones 3D interactivas. De esta forma, mientras gran parte de lo relacionado con los gráficos se procesa en la GPU, la unidad central de procesamiento (CPU) puede dedicarse a otro tipo de cálculos (como la inteligencia artificial o los cálculos mecánicos en el caso de los videojuegos).\n",
    "\n",
    "La GPU implementa ciertas operaciones gráficas llamadas primitivas optimizadas para el procesamiento gráfico. Una de las primitivas más comunes para el procesamiento gráfico en 3D es el antialiasing, que suaviza los bordes de las figuras para darles un aspecto más realista. Adicionalmente existen primitivas para dibujar rectángulos, triángulos, círculos y arcos. Las GPU actualmente disponen de gran cantidad de primitivas, buscando mayor realismo en los efectos.\n",
    "\n",
    "Las GPU están presentes en las tarjetas gráficas."
   ]
  },
  {
   "cell_type": "markdown",
   "metadata": {},
   "source": [
    "![Imagen GPU](https://serverguy.com/wp-content/uploads/2020/10/gpu-768x512.jpeg)"
   ]
  },
  {
   "cell_type": "markdown",
   "metadata": {},
   "source": [
    "## Qué es la TPU?"
   ]
  },
  {
   "cell_type": "markdown",
   "metadata": {},
   "source": [
    "Una unidad de procesamiento tensorial o TPU es un circuito integrado de aplicación específica y acelerador de IA (ASIC, AI accelerator application-specific integrated circuit) desarrollado por Google para el aprendizaje automático con redes neuronales artificiales y más específicamente optimizado para usar TensorFlow la biblioteca de código abierto para aprendizaje automático.\n",
    "\n",
    "La unidad de procesamiento de tensores se anunció en 2016 en Google I/O, aunque la compañía declaró que el TPU había sido utilizado dentro de su centro de datos durante más de un año antes.  La primera generación de las TPU de Google se presentó en la conferencia I/O 2016, diseñado específicamente para ejecutar redes neuronales entrenadas. "
   ]
  },
  {
   "cell_type": "markdown",
   "metadata": {},
   "source": [
    "![Imagen TPU](https://serverguy.com/wp-content/uploads/2020/10/tpu.webp)"
   ]
  },
  {
   "cell_type": "markdown",
   "metadata": {},
   "source": [
    "---"
   ]
  },
  {
   "cell_type": "markdown",
   "metadata": {},
   "source": [
    "### Referencias"
   ]
  },
  {
   "cell_type": "markdown",
   "metadata": {},
   "source": [
    "1. [CPU vs GPU vs TPU: Understanding the Difference Between Them](https://serverguy.com/comparison/cpu-vs-gpu-vs-tpu)\n",
    "2. [Unidad central de procesamiento](https://es.wikipedia.org/wiki/Unidad_central_de_procesamiento)\n",
    "3. [Unidad de procesamiento gráfico](https://es.wikipedia.org/wiki/Unidad_de_procesamiento_gráfico)\n",
    "4. [Unidad de procesamiento tensorial](https://es.wikipedia.org/wiki/Unidad_de_procesamiento_tensorial)\n"
   ]
  }
 ],
 "metadata": {
  "kernelspec": {
   "display_name": "Python 3",
   "language": "python",
   "name": "python3"
  },
  "language_info": {
   "codemirror_mode": {
    "name": "ipython",
    "version": 3
   },
   "file_extension": ".py",
   "mimetype": "text/x-python",
   "name": "python",
   "nbconvert_exporter": "python",
   "pygments_lexer": "ipython3",
   "version": "3.8.5"
  }
 },
 "nbformat": 4,
 "nbformat_minor": 4
}
